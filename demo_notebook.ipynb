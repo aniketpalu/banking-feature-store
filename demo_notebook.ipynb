{
  "cells": [
    {
      "cell_type": "markdown",
      "metadata": {},
      "source": [
        "# Banking Feature Store Demo\n",
        "\n",
        "This notebook demonstrates how to use Feast for banking feature management with:\n",
        "- Offline feature retrieval for model training\n",
        "- Online feature retrieval for real-time inference\n",
        "- Feature services for organized feature access\n",
        "- Simple on-demand feature transformations\n"
      ]
    },
    {
      "cell_type": "code",
      "execution_count": null,
      "metadata": {},
      "outputs": [],
      "source": [
        "# Import required libraries\n",
        "import pandas as pd\n",
        "from feast import FeatureStore\n",
        "from datetime import datetime, timedelta\n",
        "\n",
        "print(\"🚀 Banking Feature Store Demo\")\n",
        "print(\"=\" * 50)\n"
      ]
    },
    {
      "cell_type": "markdown",
      "metadata": {},
      "source": [
        "## 1. Initialize Feature Store\n"
      ]
    },
    {
      "cell_type": "code",
      "execution_count": null,
      "metadata": {},
      "outputs": [],
      "source": [
        "# Initialize the feature store\n",
        "fs = FeatureStore(repo_path=\"feature_repo\")\n",
        "\n",
        "print(\"✅ Feature store initialized\")\n"
      ]
    },
    {
      "cell_type": "markdown",
      "metadata": {},
      "source": [
        "## 2. Apply and Materialize Features"
      ]
    },
    {
      "cell_type": "code",
      "execution_count": null,
      "metadata": {},
      "outputs": [],
      "source": [
        "# Apply feature definitions to registry\n",
        "print(\"🔄 Applying feature definitions...\")\n",
        "! feast -c feature_repo apply\n",
        "print(\"✅ Features applied successfully\")\n",
        "\n",
        "# Materialize features to online store\n",
        "print(\"🔄 Materializing features to online store...\")\n",
        "fs.materialize_incremental(end_date=datetime.now())\n",
        "print(\"✅ Features materialized successfully\")\n"
      ]
    },
    {
      "cell_type": "markdown",
      "metadata": {},
      "source": [
        "## 3. List Available Feature Services\n"
      ]
    },
    {
      "cell_type": "code",
      "execution_count": null,
      "metadata": {},
      "outputs": [],
      "source": [
        "# List all available feature services\n",
        "feature_services = fs.list_feature_services()\n",
        "\n",
        "print(\"📋 Available Feature Services:\")\n",
        "print(\"=\" * 40)\n",
        "for service in feature_services:\n",
        "    print(f\"🎯 {service.name}\")\n",
        "    print(f\"   Description: {service.description}\")\n",
        "    print(f\"   Features: {len(service.features)} feature views\")\n",
        "    print()\n"
      ]
    },
    {
      "cell_type": "markdown",
      "metadata": {},
      "source": [
        "## 4. Offline Feature Retrieval (for Model Training)\n"
      ]
    },
    {
      "cell_type": "code",
      "execution_count": null,
      "metadata": {},
      "outputs": [],
      "source": [
        "# Create entity dataframe for offline retrieval\n",
        "print(\"📊 OFFLINE FEATURE RETRIEVAL (Model Training)\")\n",
        "print(\"=\" * 50)\n",
        "\n",
        "# Sample customer IDs\n",
        "sample_customers = [\"CUST_000001\", \"CUST_000002\", \"CUST_000003\"]\n",
        "recent_timestamp = pd.Timestamp('2025-09-15')\n",
        "\n",
        "# Create entity dataframe\n",
        "entity_df = pd.DataFrame({\n",
        "    'customer_id': sample_customers,\n",
        "    'event_timestamp': [recent_timestamp] * len(sample_customers)\n",
        "})\n",
        "\n",
        "print(f\"📅 Using timestamp: {recent_timestamp}\")\n",
        "print(f\"👥 Sample customers: {sample_customers}\")\n",
        "\n",
        "# Retrieve features using Customer Charter Feature Service\n",
        "print(\"\\n🎯 Using 'customer_charter_service' for offline retrieval...\")\n",
        "try:\n",
        "    training_df = fs.get_historical_features(\n",
        "        entity_df=entity_df,\n",
        "        features=fs.get_feature_service(\"customer_charter_service\"),\n",
        "        full_feature_names=True\n",
        "    ).to_df()\n",
        "    \n",
        "    print(f\"✅ Retrieved {len(training_df)} rows with {len(training_df.columns)} features\")\n",
        "    print(\"\\n📊 Sample data:\")\n",
        "    print(training_df.head())\n",
        "    \n",
        "except Exception as e:\n",
        "    print(f\"❌ Error: {e}\")\n"
      ]
    },
    {
      "cell_type": "markdown",
      "metadata": {},
      "source": [
        "## 5. Online Feature Retrieval (for Real-time Inference)\n"
      ]
    },
    {
      "cell_type": "code",
      "execution_count": null,
      "metadata": {},
      "outputs": [],
      "source": [
        "# Online feature retrieval for real-time inference\n",
        "print(\"⚡ ONLINE FEATURE RETRIEVAL (Real-time Inference)\")\n",
        "print(\"=\" * 50)\n",
        "\n",
        "# Use a customer with recent data\n",
        "customer_id = \"CUST_000465\"\n",
        "print(f\"🎯 Getting features for customer: {customer_id}\")\n",
        "\n",
        "# Retrieve features using Customer Charter Feature Service\n",
        "print(\"\\n🎯 Using 'customer_charter_service' for online retrieval...\")\n",
        "try:\n",
        "    online_features = fs.get_online_features(\n",
        "        features=fs.get_feature_service(\"customer_charter_service\"),\n",
        "        entity_rows=[{\"customer_id\": customer_id}],\n",
        "        full_feature_names=True\n",
        "    ).to_dict()\n",
        "    \n",
        "    print(f\"✅ Retrieved {len(online_features)} features\")\n",
        "    print(\"\\n📊 Feature values:\")\n",
        "    for feature_name, value in online_features.items():\n",
        "        if feature_name != 'customer_id':\n",
        "            print(f\"   {feature_name}: {value[0]}\")\n",
        "    \n",
        "except Exception as e:\n",
        "    print(f\"❌ Error: {e}\")\n"
      ]
    },
    {
      "cell_type": "markdown",
      "metadata": {},
      "source": [
        "## 6. Multiple Feature Services Demo\n"
      ]
    },
    {
      "cell_type": "code",
      "execution_count": null,
      "metadata": {},
      "outputs": [],
      "source": [
        "# Demonstrate different feature services\n",
        "print(\"🎯 MULTIPLE FEATURE SERVICES DEMO\")\n",
        "print(\"=\" * 40)\n",
        "\n",
        "services_to_demo = [\n",
        "    \"customer_charter_service\",\n",
        "    \"call_prediction_service\",\n",
        "    \"fraud_detection_service\"\n",
        "]\n",
        "\n",
        "for service_name in services_to_demo:\n",
        "    print(f\"\\n🎯 Using '{service_name}'...\")\n",
        "    try:\n",
        "        features = fs.get_online_features(\n",
        "            features=fs.get_feature_service(service_name),\n",
        "            entity_rows=[{\"customer_id\": customer_id}],\n",
        "            full_feature_names=True\n",
        "        ).to_dict()\n",
        "        \n",
        "        print(f\"   ✅ Retrieved {len(features)} features\")\n",
        "        # Show first few features\n",
        "        feature_count = 0\n",
        "        for feature_name, value in features.items():\n",
        "            if feature_name != 'customer_id' and feature_count < 3:\n",
        "                print(f\"   {feature_name}: {value[0]}\")\n",
        "                feature_count += 1\n",
        "        if len(features) > 4:\n",
        "            print(f\"   ... and {len(features) - 4} more features\")\n",
        "            \n",
        "    except Exception as e:\n",
        "        print(f\"   ❌ Error: {e}\")\n"
      ]
    },
    {
      "cell_type": "markdown",
      "metadata": {},
      "source": [
        "## 7. Simple On-Demand Feature Transformation\n"
      ]
    },
    {
      "cell_type": "code",
      "execution_count": null,
      "metadata": {},
      "outputs": [],
      "source": [
        "# Demonstrate the actual Feast on-demand feature view\n",
        "print(\"🔄 ON-DEMAND FEATURE VIEW DEMO\")\n",
        "print(\"=\" * 40)\n",
        "\n",
        "# Get features using the on-demand risk service\n",
        "print(\"🎯 Using 'ondemand_risk_service' with on-demand transformations...\")\n",
        "try:\n",
        "    ondemand_features = fs.get_online_features(\n",
        "        features=fs.get_feature_service(\"ondemand_risk_service\"),\n",
        "        entity_rows=[{\"customer_id\": customer_id}],\n",
        "        full_feature_names=True\n",
        "    ).to_dict()\n",
        "    \n",
        "    print(f\"✅ Retrieved {len(ondemand_features)} features\")\n",
        "    print(\"\\n📊 On-demand feature values:\")\n",
        "    for feature_name, value in ondemand_features.items():\n",
        "        if feature_name != 'customer_id':\n",
        "            print(f\"   {feature_name}: {value[0]}\")\n",
        "    \n",
        "    # Show the calculated risk score\n",
        "    if 'calculate_risk_score__risk_score' in ondemand_features:\n",
        "        risk_score = ondemand_features['calculate_risk_score__risk_score'][0]\n",
        "        print(f\"\\n🎯 On-Demand Risk Score: {risk_score:.1f}/100\")\n",
        "        print(f\"   Risk Level: {'LOW' if risk_score > 70 else 'MEDIUM' if risk_score > 40 else 'HIGH'}\")\n",
        "    \n",
        "except Exception as e:\n",
        "    print(f\"❌ Error: {e}\")\n",
        "\n",
        "print(\"\\n💡 This demonstrates a real Feast on-demand feature view!\")\n",
        "print(\"   The risk score is calculated in real-time during feature retrieval.\")\n"
      ]
    },
    {
      "cell_type": "markdown",
      "metadata": {},
      "source": [
        "## 8. Summary\n"
      ]
    },
    {
      "cell_type": "code",
      "execution_count": null,
      "metadata": {},
      "outputs": [],
      "source": [
        "# Updated Summary with On-Demand Features\n",
        "print(\"📊 BANKING FEATURE STORE DEMO SUMMARY\")\n",
        "print(\"=\" * 50)\n",
        "print(\"✅ Feature store initialized and configured\")\n",
        "print(\"✅ Features applied and materialized\")\n",
        "print(\"✅ Offline feature retrieval for model training\")\n",
        "print(\"✅ Online feature retrieval for real-time inference\")\n",
        "print(\"✅ Feature services for organized feature access\")\n",
        "print(\"✅ On-demand feature view with real-time transformations\")\n",
        "print(\"\\n🎯 Key Benefits:\")\n",
        "print(\"   • Centralized feature management\")\n",
        "print(\"   • Consistent feature access across teams\")\n",
        "print(\"   • Real-time and batch feature serving\")\n",
        "print(\"   • Feature versioning and lineage\")\n",
        "print(\"   • Easy feature discovery and reuse\")\n",
        "print(\"   • Real-time feature transformations\")\n",
        "print(\"\\n🏦 Perfect for banking use cases:\")\n",
        "print(\"   • Customer risk assessment\")\n",
        "print(\"   • Fraud detection\")\n",
        "print(\"   • Call prediction\")\n",
        "print(\"   • Transaction analysis\")\n",
        "print(\"   • Customer segmentation\")\n"
      ]
    },
    {
      "cell_type": "code",
      "execution_count": null,
      "metadata": {},
      "outputs": [],
      "source": [
        "print(\"📊 BANKING FEATURE STORE DEMO SUMMARY\")\n",
        "print(\"=\" * 50)\n",
        "print(\"✅ Feature store initialized and configured\")\n",
        "print(\"✅ Features applied and materialized\")\n",
        "print(\"✅ Offline feature retrieval for model training\")\n",
        "print(\"✅ Online feature retrieval for real-time inference\")\n",
        "print(\"✅ Feature services for organized feature access\")\n",
        "print(\"✅ On-demand transformations demonstrated\")\n",
        "print(\"\\n🎯 Key Benefits:\")\n",
        "print(\"   • Centralized feature management\")\n",
        "print(\"   • Consistent feature access across teams\")\n",
        "print(\"   • Real-time and batch feature serving\")\n",
        "print(\"   • Feature versioning and lineage\")\n",
        "print(\"   • Easy feature discovery and reuse\")\n",
        "print(\"\\n🏦 Perfect for banking use cases:\")\n",
        "print(\"   • Customer risk assessment\")\n",
        "print(\"   • Fraud detection\")\n",
        "print(\"   • Call prediction\")\n",
        "print(\"   • Transaction analysis\")\n",
        "print(\"   • Customer segmentation\")\n"
      ]
    }
  ],
  "metadata": {
    "language_info": {
      "name": "python"
    }
  },
  "nbformat": 4,
  "nbformat_minor": 2
}
